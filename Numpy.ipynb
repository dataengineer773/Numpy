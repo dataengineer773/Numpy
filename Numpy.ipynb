{
 "cells": [
  {
   "cell_type": "markdown",
   "id": "26a9eacd",
   "metadata": {},
   "source": [
    "# Numpy\n",
    "\n",
    "[NumPy](https://numpy.org/) is the fundamental package for scientific computing with Python.\n",
    "\n",
    "### Installation:\n",
    "\n",
    "<div class=\"alert alert-block alert-warning\">\n",
    "$ pip install numpy\n",
    "</div>\n",
    "\n",
    "or\n",
    "\n",
    "<div class=\"alert alert-block alert-warning\">\n",
    "$ conda install numpy\n",
    "</div>"
   ]
  },
  {
   "cell_type": "code",
   "execution_count": 1,
   "id": "e4f00749",
   "metadata": {},
   "outputs": [
    {
     "name": "stdout",
     "output_type": "stream",
     "text": [
      "Requirement already satisfied: numpy in /Users/khamir/opt/miniconda3/lib/python3.9/site-packages (1.23.5)\r\n"
     ]
    }
   ],
   "source": [
    "! pip install numpy"
   ]
  },
  {
   "cell_type": "code",
   "execution_count": 1,
   "id": "8ff9b9af",
   "metadata": {},
   "outputs": [],
   "source": [
    "import numpy as np"
   ]
  },
  {
   "cell_type": "code",
   "execution_count": 2,
   "id": "47bbb0fb",
   "metadata": {},
   "outputs": [],
   "source": [
    "N = 1000000\n",
    "my_arr = np.arange(N)\n",
    "my_list = [i for i in range(N)]"
   ]
  },
  {
   "cell_type": "code",
   "execution_count": 3,
   "id": "7b5b00ef",
   "metadata": {},
   "outputs": [
    {
     "name": "stdout",
     "output_type": "stream",
     "text": [
      "CPU times: user 15.9 ms, sys: 11.6 ms, total: 27.5 ms\n",
      "Wall time: 27.6 ms\n"
     ]
    }
   ],
   "source": [
    "%time for _ in range(10): my_arr2 = 2*my_arr"
   ]
  },
  {
   "cell_type": "code",
   "execution_count": 4,
   "id": "f7de540c",
   "metadata": {},
   "outputs": [
    {
     "name": "stdout",
     "output_type": "stream",
     "text": [
      "CPU times: user 310 ms, sys: 54.2 ms, total: 365 ms\n",
      "Wall time: 366 ms\n"
     ]
    }
   ],
   "source": [
    "%time for _ in range(10): my_list2 = [2*x for x in my_list]"
   ]
  },
  {
   "cell_type": "code",
   "execution_count": 5,
   "id": "41a54863",
   "metadata": {},
   "outputs": [
    {
     "data": {
      "text/plain": [
       "13.26086956521739"
      ]
     },
     "execution_count": 5,
     "metadata": {},
     "output_type": "execute_result"
    }
   ],
   "source": [
    "366/27.6"
   ]
  },
  {
   "cell_type": "markdown",
   "id": "b6df6023",
   "metadata": {},
   "source": [
    "## Basics:\n",
    "___\n",
    "\n",
    "One of the most commonly used functions of NumPy are *NumPy arrays*: The essential difference between lists and NumPy arrays is functionality and speed. lists give you basic operation, but NumPy adds FFTs, convolutions, fast searching, basic statistics, linear algebra, histograms, etc.\n",
    "\n",
    "The most important difference for data science is the ability to do **element-wise calculations** with *NumPy* arrays.\n",
    "\n",
    "`axis 0` always refers to row <br>\n",
    "`axis 1` always refers to column\n",
    "\n",
    "+ `np.array([1,2,3])`\n",
    "+ `np.array([(1,2,3),(4,5,6)])`\n",
    "+ `np.arange(start,stop,step)`\n",
    "\n",
    "**Placeholders**:\n",
    "- `np.linspace(0,2,9)`\n",
    "- `np.zeros((1,2))`\n",
    "- `np.ones((1,2))`\n",
    "- `np.random.random((5,5))`\n",
    "- `np.empty((2,2))`\n",
    "- `np.full((3, 3), 7)`"
   ]
  },
  {
   "cell_type": "code",
   "execution_count": 11,
   "id": "081c196b",
   "metadata": {},
   "outputs": [],
   "source": [
    "arr_1d = np.array([1, 2, 3, 4, 5])"
   ]
  },
  {
   "cell_type": "code",
   "execution_count": 10,
   "id": "33d88429",
   "metadata": {},
   "outputs": [
    {
     "data": {
      "text/plain": [
       "numpy.ndarray"
      ]
     },
     "execution_count": 10,
     "metadata": {},
     "output_type": "execute_result"
    }
   ],
   "source": [
    "type(arr_1d)"
   ]
  },
  {
   "cell_type": "code",
   "execution_count": 15,
   "id": "c7e37df7",
   "metadata": {},
   "outputs": [
    {
     "data": {
      "text/plain": [
       "(1, 4, 5, 4)"
      ]
     },
     "execution_count": 15,
     "metadata": {},
     "output_type": "execute_result"
    }
   ],
   "source": [
    "arr_1d[0], arr_1d[3], arr_1d[-1], arr_1d[-2]"
   ]
  },
  {
   "cell_type": "code",
   "execution_count": 25,
   "id": "8f731cc9",
   "metadata": {},
   "outputs": [],
   "source": [
    "arr_2d = np.array([[1, 2, 3, 4],\n",
    "                   [-1, 0, 1, 0]])"
   ]
  },
  {
   "cell_type": "code",
   "execution_count": 19,
   "id": "3ee64442",
   "metadata": {},
   "outputs": [
    {
     "data": {
      "text/plain": [
       "(3, 3)"
      ]
     },
     "execution_count": 19,
     "metadata": {},
     "output_type": "execute_result"
    }
   ],
   "source": [
    "arr_2d[0][2], arr_2d[0, 2]"
   ]
  },
  {
   "cell_type": "code",
   "execution_count": 20,
   "id": "5714647f",
   "metadata": {},
   "outputs": [
    {
     "data": {
      "text/plain": [
       "(2, 4)"
      ]
     },
     "execution_count": 20,
     "metadata": {},
     "output_type": "execute_result"
    }
   ],
   "source": [
    "arr_2d.shape"
   ]
  },
  {
   "cell_type": "code",
   "execution_count": 21,
   "id": "653d9048",
   "metadata": {},
   "outputs": [],
   "source": [
    "arr_3d = np.array([[[1, 2, 3, 4],\n",
    "                    [5, 6, 7, 8]],\n",
    "                   \n",
    "                   [[-1, -2, -3, -4],\n",
    "                    [-5, -6, -7, -8]],\n",
    "                   \n",
    "                   [[11, 12, 13, 14],\n",
    "                    [15, 16, 17, 18]]])"
   ]
  },
  {
   "cell_type": "code",
   "execution_count": 22,
   "id": "48800c6a",
   "metadata": {},
   "outputs": [
    {
     "data": {
      "text/plain": [
       "(3, 2, 4)"
      ]
     },
     "execution_count": 22,
     "metadata": {},
     "output_type": "execute_result"
    }
   ],
   "source": [
    "arr_3d.shape"
   ]
  },
  {
   "cell_type": "code",
   "execution_count": 26,
   "id": "36ae82f0",
   "metadata": {},
   "outputs": [
    {
     "data": {
      "text/plain": [
       "-3"
      ]
     },
     "execution_count": 26,
     "metadata": {},
     "output_type": "execute_result"
    }
   ],
   "source": [
    "arr_3d[1, 0, 2]"
   ]
  },
  {
   "cell_type": "code",
   "execution_count": 29,
   "id": "462d4e6a",
   "metadata": {},
   "outputs": [
    {
     "data": {
      "text/plain": [
       "array([[11, 12, 13, 14],\n",
       "       [15, 16, 17, 18]])"
      ]
     },
     "execution_count": 29,
     "metadata": {},
     "output_type": "execute_result"
    }
   ],
   "source": [
    "arr_3d[2, :, :]"
   ]
  },
  {
   "cell_type": "code",
   "execution_count": 31,
   "id": "5a5c6511",
   "metadata": {},
   "outputs": [
    {
     "data": {
      "text/plain": [
       "array([[ 5,  6,  7,  8],\n",
       "       [-5, -6, -7, -8],\n",
       "       [15, 16, 17, 18]])"
      ]
     },
     "execution_count": 31,
     "metadata": {},
     "output_type": "execute_result"
    }
   ],
   "source": [
    "arr_3d[:, 1, :]"
   ]
  },
  {
   "cell_type": "code",
   "execution_count": 32,
   "id": "1b8b6843",
   "metadata": {},
   "outputs": [
    {
     "data": {
      "text/plain": [
       "array([[ 1,  5],\n",
       "       [-1, -5],\n",
       "       [11, 15]])"
      ]
     },
     "execution_count": 32,
     "metadata": {},
     "output_type": "execute_result"
    }
   ],
   "source": [
    "arr_3d[:, :, 0]"
   ]
  },
  {
   "cell_type": "code",
   "execution_count": 33,
   "id": "2e0b1d28",
   "metadata": {},
   "outputs": [
    {
     "data": {
      "text/plain": [
       "array([0, 1, 2, 3, 4, 5, 6, 7, 8, 9])"
      ]
     },
     "execution_count": 33,
     "metadata": {},
     "output_type": "execute_result"
    }
   ],
   "source": [
    "np.arange(10)"
   ]
  },
  {
   "cell_type": "code",
   "execution_count": 34,
   "id": "a48bfd11",
   "metadata": {},
   "outputs": [
    {
     "data": {
      "text/plain": [
       "array([2, 3, 4, 5, 6, 7, 8, 9])"
      ]
     },
     "execution_count": 34,
     "metadata": {},
     "output_type": "execute_result"
    }
   ],
   "source": [
    "np.arange(2, 10)"
   ]
  },
  {
   "cell_type": "code",
   "execution_count": 35,
   "id": "8f7aac87",
   "metadata": {},
   "outputs": [
    {
     "data": {
      "text/plain": [
       "array([2, 4, 6, 8])"
      ]
     },
     "execution_count": 35,
     "metadata": {},
     "output_type": "execute_result"
    }
   ],
   "source": [
    "np.arange(2, 10, 2)"
   ]
  },
  {
   "cell_type": "code",
   "execution_count": 38,
   "id": "a054204d",
   "metadata": {},
   "outputs": [
    {
     "data": {
      "text/plain": [
       "array([-5.00000000e-01, -4.00000000e-01, -3.00000000e-01, -2.00000000e-01,\n",
       "       -1.00000000e-01, -1.11022302e-16,  1.00000000e-01,  2.00000000e-01,\n",
       "        3.00000000e-01,  4.00000000e-01,  5.00000000e-01,  6.00000000e-01,\n",
       "        7.00000000e-01,  8.00000000e-01,  9.00000000e-01,  1.00000000e+00])"
      ]
     },
     "execution_count": 38,
     "metadata": {},
     "output_type": "execute_result"
    }
   ],
   "source": [
    "np.arange(-0.5, 1.1, 0.1)"
   ]
  },
  {
   "cell_type": "code",
   "execution_count": 42,
   "id": "e070f4fd",
   "metadata": {},
   "outputs": [
    {
     "data": {
      "text/plain": [
       "array([-0.5, -0.4, -0.3, -0.2, -0.1,  0. ,  0.1,  0.2,  0.3,  0.4,  0.5,\n",
       "        0.6,  0.7,  0.8,  0.9,  1. ])"
      ]
     },
     "execution_count": 42,
     "metadata": {},
     "output_type": "execute_result"
    }
   ],
   "source": [
    "np.linspace(-0.5, 1, 16)"
   ]
  },
  {
   "cell_type": "code",
   "execution_count": 49,
   "id": "9bf65f69",
   "metadata": {},
   "outputs": [
    {
     "data": {
      "text/plain": [
       "array([[0., 0., 0.],\n",
       "       [0., 0., 0.],\n",
       "       [0., 0., 0.],\n",
       "       [0., 0., 0.]])"
      ]
     },
     "execution_count": 49,
     "metadata": {},
     "output_type": "execute_result"
    }
   ],
   "source": [
    "np.zeros((4, 3))"
   ]
  },
  {
   "cell_type": "code",
   "execution_count": 44,
   "id": "078fe10e",
   "metadata": {},
   "outputs": [
    {
     "data": {
      "text/plain": [
       "array([[1., 1., 1., 1., 1.],\n",
       "       [1., 1., 1., 1., 1.],\n",
       "       [1., 1., 1., 1., 1.]])"
      ]
     },
     "execution_count": 44,
     "metadata": {},
     "output_type": "execute_result"
    }
   ],
   "source": [
    "np.ones((3, 5))"
   ]
  },
  {
   "cell_type": "code",
   "execution_count": 45,
   "id": "784a37d2",
   "metadata": {},
   "outputs": [
    {
     "data": {
      "text/plain": [
       "array([[-7, -7, -7, -7],\n",
       "       [-7, -7, -7, -7],\n",
       "       [-7, -7, -7, -7]])"
      ]
     },
     "execution_count": 45,
     "metadata": {},
     "output_type": "execute_result"
    }
   ],
   "source": [
    "np.full((3, 4), -7)"
   ]
  },
  {
   "cell_type": "code",
   "execution_count": 46,
   "id": "e404cb34",
   "metadata": {},
   "outputs": [
    {
     "data": {
      "text/plain": [
       "array([[1., 0., 0., 0., 0.],\n",
       "       [0., 1., 0., 0., 0.],\n",
       "       [0., 0., 1., 0., 0.],\n",
       "       [0., 0., 0., 1., 0.],\n",
       "       [0., 0., 0., 0., 1.]])"
      ]
     },
     "execution_count": 46,
     "metadata": {},
     "output_type": "execute_result"
    }
   ],
   "source": [
    "np.eye(5)"
   ]
  },
  {
   "cell_type": "code",
   "execution_count": 50,
   "id": "e76c78a9",
   "metadata": {},
   "outputs": [
    {
     "data": {
      "text/plain": [
       "array([[0.58903572, 0.78590464, 0.37887953, 0.87531792],\n",
       "       [0.16664414, 0.65922083, 0.67297589, 0.75300768],\n",
       "       [0.09754899, 0.57957748, 0.3717744 , 0.30291825],\n",
       "       [0.2485746 , 0.38851757, 0.83948559, 0.90271738]])"
      ]
     },
     "execution_count": 50,
     "metadata": {},
     "output_type": "execute_result"
    }
   ],
   "source": [
    "np.random.random((4, 4))"
   ]
  },
  {
   "cell_type": "code",
   "execution_count": 52,
   "id": "af352d18",
   "metadata": {},
   "outputs": [
    {
     "data": {
      "text/plain": [
       "array([[1.31999014, 2.47239128, 0.99578403, 1.26212999, 3.75389943],\n",
       "       [0.4924544 , 0.03912071, 1.02008476, 3.1409131 , 2.15497137]])"
      ]
     },
     "execution_count": 52,
     "metadata": {},
     "output_type": "execute_result"
    }
   ],
   "source": [
    "np.random.uniform(0, 4, (2, 5))"
   ]
  },
  {
   "cell_type": "code",
   "execution_count": 53,
   "id": "1699a8a7",
   "metadata": {},
   "outputs": [
    {
     "data": {
      "text/plain": [
       "array([[-1.60075949,  2.92272174, -0.09821871],\n",
       "       [-1.42681597,  1.18025689,  0.53999068],\n",
       "       [-0.71931946, -0.04686306, -0.32423992]])"
      ]
     },
     "execution_count": 53,
     "metadata": {},
     "output_type": "execute_result"
    }
   ],
   "source": [
    "np.random.normal(0, 1, (3, 3))"
   ]
  },
  {
   "cell_type": "code",
   "execution_count": 62,
   "id": "2ebafb6d",
   "metadata": {},
   "outputs": [
    {
     "data": {
      "text/plain": [
       "array([ 0, 17, 17, 16,  7, 18, 16,  1, 18, 18, 18,  4, 12,  1,  6,  7,  4,\n",
       "       16, 14, 15, 14, 16, 13,  3,  2,  6, 17,  9, 12, 17,  7,  6,  9, 12])"
      ]
     },
     "execution_count": 62,
     "metadata": {},
     "output_type": "execute_result"
    }
   ],
   "source": [
    "np.random.randint(0, 20, (34,))"
   ]
  },
  {
   "cell_type": "code",
   "execution_count": 34,
   "id": "f46ca02e",
   "metadata": {},
   "outputs": [],
   "source": [
    "# np.int8, np.int16, np.int32, np.int64\n",
    "# np.float16, np.float32, np.float64, np.float128\n",
    "# np.uint8, np.uint16, np.uint32, np.uint64"
   ]
  },
  {
   "cell_type": "code",
   "execution_count": 69,
   "id": "f5f06afc",
   "metadata": {},
   "outputs": [],
   "source": [
    "b = np.random.randint(0, 20, (34,), dtype=np.uint8)"
   ]
  },
  {
   "cell_type": "code",
   "execution_count": 70,
   "id": "b9c76aca",
   "metadata": {},
   "outputs": [
    {
     "data": {
      "text/plain": [
       "dtype('uint8')"
      ]
     },
     "execution_count": 70,
     "metadata": {},
     "output_type": "execute_result"
    }
   ],
   "source": [
    "b.dtype"
   ]
  },
  {
   "cell_type": "markdown",
   "id": "e59a714e",
   "metadata": {},
   "source": [
    "## Array:\n",
    "\n",
    "+ `array.shape`\t\n",
    "+ `len(array)`\n",
    "+ `array.ndim\t`\n",
    "+ `array.size`\t\n",
    "+ `array.dtype`\t\n",
    "+ `array.astype(type)`\t\n",
    "\n",
    "\n",
    "+ `np.copy(array)`\t\n",
    "+ `other = array.copy()`\t\n",
    "+ `array.sort()`\n",
    "+ `array.sort(axis=0)`"
   ]
  },
  {
   "cell_type": "code",
   "execution_count": null,
   "id": "33361a5a",
   "metadata": {},
   "outputs": [],
   "source": []
  },
  {
   "cell_type": "code",
   "execution_count": null,
   "id": "15bb261b",
   "metadata": {},
   "outputs": [],
   "source": []
  },
  {
   "cell_type": "markdown",
   "id": "bf787fe8",
   "metadata": {},
   "source": [
    "## Linerar algebra"
   ]
  },
  {
   "cell_type": "code",
   "execution_count": null,
   "id": "fe2e68cb",
   "metadata": {},
   "outputs": [],
   "source": []
  }
 ],
 "metadata": {
  "kernelspec": {
   "display_name": "Python 3 (ipykernel)",
   "language": "python",
   "name": "python3"
  },
  "language_info": {
   "codemirror_mode": {
    "name": "ipython",
    "version": 3
   },
   "file_extension": ".py",
   "mimetype": "text/x-python",
   "name": "python",
   "nbconvert_exporter": "python",
   "pygments_lexer": "ipython3",
   "version": "3.9.12"
  }
 },
 "nbformat": 4,
 "nbformat_minor": 5
}
